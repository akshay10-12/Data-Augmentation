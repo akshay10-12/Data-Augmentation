{
 "cells": [
  {
   "cell_type": "code",
   "execution_count": 7,
   "metadata": {},
   "outputs": [],
   "source": [
    "## Data Augmentation using Python and Keras \n",
    "from keras.utils import array_to_img, img_to_array, load_img\n",
    "from keras.preprocessing.image import ImageDataGenerator\n",
    "\n",
    "datagen = ImageDataGenerator(\n",
    "            rotation_range = 40, \n",
    "            width_shift_range = 0.2, \n",
    "            height_shift_range = 0.2, \n",
    "            shear_range = 0.2, \n",
    "            zoom_range = 0.2, \n",
    "            horizontal_flip = True, \n",
    "            fill_mode = 'nearest')\n",
    "\n",
    "img = load_img('10003.jpg')\n",
    "x = img_to_array(img) \n",
    "x = x.reshape((1,) + x.shape) "
   ]
  },
  {
   "cell_type": "code",
   "execution_count": 12,
   "metadata": {
    "scrolled": true
   },
   "outputs": [],
   "source": [
    "#the .flow() command below generates batches of randomly transformed images \n",
    "# and saves the results to the directory \n",
    "\n",
    "i = 0 \n",
    "for batch in datagen.flow(x, batch_size = 1, save_to_dir = 'C:\\\\Users\\\\Akshay\\\\Deep Learning\\\\augmented images', save_prefix = 'dog', save_format = 'jpeg'):\n",
    "    i += 1\n",
    "    if i > 10:\n",
    "        break"
   ]
  },
  {
   "cell_type": "code",
   "execution_count": null,
   "metadata": {},
   "outputs": [],
   "source": []
  }
 ],
 "metadata": {
  "kernelspec": {
   "display_name": "Python 3",
   "language": "python",
   "name": "python3"
  },
  "language_info": {
   "codemirror_mode": {
    "name": "ipython",
    "version": 3
   },
   "file_extension": ".py",
   "mimetype": "text/x-python",
   "name": "python",
   "nbconvert_exporter": "python",
   "pygments_lexer": "ipython3",
   "version": "3.8.5"
  }
 },
 "nbformat": 4,
 "nbformat_minor": 4
}
